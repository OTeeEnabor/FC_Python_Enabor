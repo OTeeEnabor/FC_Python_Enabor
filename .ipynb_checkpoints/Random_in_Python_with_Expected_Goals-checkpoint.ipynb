{
 "cells": [
  {
   "cell_type": "code",
   "execution_count": 1,
   "id": "9104d4bd",
   "metadata": {},
   "outputs": [],
   "source": [
    "import random"
   ]
  },
  {
   "cell_type": "code",
   "execution_count": 3,
   "id": "52cf0354",
   "metadata": {},
   "outputs": [
    {
     "data": {
      "text/plain": [
       "0.28601688423450145"
      ]
     },
     "execution_count": 3,
     "metadata": {},
     "output_type": "execute_result"
    }
   ],
   "source": [
    "# a number between 0 and 1 - like a probability score\n",
    "random.random()"
   ]
  },
  {
   "cell_type": "markdown",
   "id": "950e857e",
   "metadata": {},
   "source": [
    "## Applying Random to Expected Goals"
   ]
  },
  {
   "cell_type": "markdown",
   "id": "2b173eb4",
   "metadata": {},
   "source": [
    "**Expected goals** is a measurement of how many goals a team could have expected to score based on the shots that they took. Different models base this on different things, but most commonly, the location of the shot, type of build-up, foot used are used to compare the chance with similar ones historically."
   ]
  },
  {
   "cell_type": "code",
   "execution_count": 4,
   "id": "7f350442",
   "metadata": {},
   "outputs": [],
   "source": [
    "def xGList(length):\n",
    "    xgList = []\n",
    "    for i in range(length):\n",
    "        xgList.append(random.random())\n",
    "    return xgList"
   ]
  },
  {
   "cell_type": "code",
   "execution_count": 29,
   "id": "8199e692",
   "metadata": {},
   "outputs": [],
   "source": [
    "homeXG = xGList(8)\n",
    "awayXG = xGList(8)"
   ]
  },
  {
   "cell_type": "code",
   "execution_count": 8,
   "id": "a3c39e3f",
   "metadata": {},
   "outputs": [],
   "source": [
    "# if xG is less than 21% then goal if not missed"
   ]
  },
  {
   "cell_type": "code",
   "execution_count": 14,
   "id": "69441e7c",
   "metadata": {},
   "outputs": [],
   "source": [
    "def goalScoredProb(xGlist):\n",
    "    goals = 0\n",
    "    for xG in xGlist:\n",
    "        if xG <= 0.21:\n",
    "            goals +=1\n",
    "    return goals\n",
    "            \n",
    "            \n",
    "    "
   ]
  },
  {
   "cell_type": "code",
   "execution_count": 15,
   "id": "9aec1a21",
   "metadata": {},
   "outputs": [
    {
     "data": {
      "text/plain": [
       "0"
      ]
     },
     "execution_count": 15,
     "metadata": {},
     "output_type": "execute_result"
    }
   ],
   "source": [
    "# calculate the \n",
    "homeGoals = goalScoredProb(homeXG)\n",
    "\n",
    "homeGoals"
   ]
  },
  {
   "cell_type": "code",
   "execution_count": 16,
   "id": "d9bfd80c",
   "metadata": {},
   "outputs": [
    {
     "data": {
      "text/plain": [
       "2"
      ]
     },
     "execution_count": 16,
     "metadata": {},
     "output_type": "execute_result"
    }
   ],
   "source": [
    "awayGoals = goalScoredProb(awayXG)\n",
    "awayGoals"
   ]
  },
  {
   "cell_type": "markdown",
   "id": "712b784f",
   "metadata": {},
   "source": [
    "## Simulating a Match with Expected Goals"
   ]
  },
  {
   "cell_type": "code",
   "execution_count": 34,
   "id": "7eb41160",
   "metadata": {},
   "outputs": [],
   "source": [
    "def calculateWinner(home,away):\n",
    "    # Match starts at 0-0\n",
    "    homeGoals = 0\n",
    "    awayGoals = 0\n",
    "    \n",
    "    def testShots(shots):\n",
    "        # start goal count at 0\n",
    "        goals = 0\n",
    "        \n",
    "        #for each shot, if it goes in, add a goal\n",
    "        for shot in shots:\n",
    "            if random.random() <= shot:\n",
    "                goals +=1\n",
    "                \n",
    "        # return the number of goals\n",
    "        return goals\n",
    "    homeGoals = testShots(home)\n",
    "    awayGoals = testShots(away)\n",
    "    \n",
    "    # return the score\n",
    "    if homeGoals > awayGoals:\n",
    "        return(\"home\")\n",
    "    elif awayGoals> homeGoals:\n",
    "        return(\"away\")\n",
    "    else:\n",
    "        return(\"draw\")\n",
    "\n",
    "\n",
    "        "
   ]
  },
  {
   "cell_type": "code",
   "execution_count": 30,
   "id": "c5cbb421",
   "metadata": {},
   "outputs": [
    {
     "name": "stdout",
     "output_type": "stream",
     "text": [
      "Draw! 4 - 4\n"
     ]
    }
   ],
   "source": [
    "calculateWinner(homeXG,awayXG)"
   ]
  },
  {
   "cell_type": "code",
   "execution_count": 39,
   "id": "541f0308",
   "metadata": {},
   "outputs": [],
   "source": [
    " # run xG calculator 100000 times, and work out the percentage of each result\n",
    "def calculateChance(team1,team2,simNum):\n",
    "    home = 0;\n",
    "    away = 0;\n",
    "    draw = 0;\n",
    "    \n",
    "    for i in range(0,simNum):\n",
    "        matchWinner = calculateWinner(team1,team2)\n",
    "        if matchWinner ==\"home\":\n",
    "            home+=1\n",
    "        elif matchWinner ==\"away\":\n",
    "            away+=1\n",
    "        else:\n",
    "            draw+=1\n",
    "    home = home/100\n",
    "    away = away/100\n",
    "    draw = draw/100\n",
    "    \n",
    "    print(\"Over {} games, home wins {}%, away wins {}% and there is a draw in {}% of games\".format(simNum,home,away,draw))\n",
    "        "
   ]
  },
  {
   "cell_type": "code",
   "execution_count": 40,
   "id": "b04188e6",
   "metadata": {},
   "outputs": [
    {
     "name": "stdout",
     "output_type": "stream",
     "text": [
      "Over 10000 games, home wins 12.06%, away wins 71.04% and there is a draw in 16.9% of games\n"
     ]
    }
   ],
   "source": [
    "calculateChance(homeXG,awayXG,10000)"
   ]
  },
  {
   "cell_type": "code",
   "execution_count": null,
   "id": "d900ec98",
   "metadata": {},
   "outputs": [],
   "source": []
  }
 ],
 "metadata": {
  "kernelspec": {
   "display_name": "Python 3",
   "language": "python",
   "name": "python3"
  },
  "language_info": {
   "codemirror_mode": {
    "name": "ipython",
    "version": 3
   },
   "file_extension": ".py",
   "mimetype": "text/x-python",
   "name": "python",
   "nbconvert_exporter": "python",
   "pygments_lexer": "ipython3",
   "version": "3.8.8"
  }
 },
 "nbformat": 4,
 "nbformat_minor": 5
}

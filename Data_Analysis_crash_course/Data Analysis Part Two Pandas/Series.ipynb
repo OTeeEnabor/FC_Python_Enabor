{
 "cells": [
  {
   "cell_type": "markdown",
   "id": "e34f617c",
   "metadata": {},
   "source": [
    "The key difference between these two data types is that series allow us to label our axes, making our grids a lot easier to read, index and utilise.\n",
    "\n",
    "Let’s fire up NumPy and Pandas and create some series. Remember to install these modules if you haven’t already."
   ]
  },
  {
   "cell_type": "code",
   "execution_count": 1,
   "id": "89c04918",
   "metadata": {},
   "outputs": [],
   "source": [
    "import numpy as np\n",
    "import pandas as pd"
   ]
  },
  {
   "cell_type": "code",
   "execution_count": 3,
   "id": "cf781485",
   "metadata": {},
   "outputs": [
    {
     "data": {
      "text/plain": [
       "0    60432\n",
       "1    55097\n",
       "2    39460\n",
       "dtype: int64"
      ]
     },
     "execution_count": 3,
     "metadata": {},
     "output_type": "execute_result"
    }
   ],
   "source": [
    "capacity = pd.Series(data=[60432,55097,39460])\n",
    "capacity"
   ]
  },
  {
   "cell_type": "markdown",
   "id": "eec3e93a",
   "metadata": {},
   "source": [
    "What is really cool about series, is that they allow us to change these index labels:\n",
    "\n"
   ]
  },
  {
   "cell_type": "code",
   "execution_count": 5,
   "id": "583dcb28",
   "metadata": {},
   "outputs": [
    {
     "data": {
      "text/plain": [
       "Emirates Stadium    60432\n",
       "Ethiad Stadium      55097\n",
       "Elland Road         39460\n",
       "dtype: int64"
      ]
     },
     "execution_count": 5,
     "metadata": {},
     "output_type": "execute_result"
    }
   ],
   "source": [
    "capacity = pd.Series(data=[60432,55097,39460], index=[\"Emirates Stadium\",\"Ethiad Stadium\",\"Elland Road\"])\n",
    "capacity"
   ]
  },
  {
   "cell_type": "markdown",
   "id": "5eee2e86",
   "metadata": {},
   "source": [
    "In the previous example, our stadium capacities and labels were in two separate lists. We can do the same thing with a dictionary:"
   ]
  },
  {
   "cell_type": "code",
   "execution_count": 8,
   "id": "46c30d4b",
   "metadata": {},
   "outputs": [
    {
     "data": {
      "text/plain": [
       "Ewood Park         31367\n",
       "Liberty Stadium    20937\n",
       "Portman Road       30311\n",
       "dtype: int64"
      ]
     },
     "execution_count": 8,
     "metadata": {},
     "output_type": "execute_result"
    }
   ],
   "source": [
    "capacityDict = {'Ewood Park':31367, 'Liberty Stadium':20937, 'Portman Road':30311}\n",
    "capacity= pd.Series(capacityDict)\n",
    "capacity"
   ]
  },
  {
   "cell_type": "code",
   "execution_count": null,
   "id": "337d62e0",
   "metadata": {},
   "outputs": [],
   "source": []
  }
 ],
 "metadata": {
  "kernelspec": {
   "display_name": "Python 3",
   "language": "python",
   "name": "python3"
  },
  "language_info": {
   "codemirror_mode": {
    "name": "ipython",
    "version": 3
   },
   "file_extension": ".py",
   "mimetype": "text/x-python",
   "name": "python",
   "nbconvert_exporter": "python",
   "pygments_lexer": "ipython3",
   "version": "3.8.8"
  }
 },
 "nbformat": 4,
 "nbformat_minor": 5
}

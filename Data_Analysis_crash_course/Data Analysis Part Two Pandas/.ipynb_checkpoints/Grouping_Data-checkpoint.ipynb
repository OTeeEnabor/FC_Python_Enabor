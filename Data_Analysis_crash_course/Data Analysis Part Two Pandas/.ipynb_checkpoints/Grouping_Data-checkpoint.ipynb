{
 "cells": [
  {
   "cell_type": "markdown",
   "id": "66c8bfa6",
   "metadata": {},
   "source": [
    "# Grouping Data\n",
    "\n",
    "With DataFrames giving us the opportunity to store huge grids of data, we will sometimes want to group particular parts of our data set for analysis. Pandas’ ‘groupby’ method gives us an easy way to do so."
   ]
  },
  {
   "cell_type": "code",
   "execution_count": 1,
   "id": "388cdd7d",
   "metadata": {},
   "outputs": [],
   "source": [
    "import pandas as pd\n"
   ]
  },
  {
   "cell_type": "code",
   "execution_count": 2,
   "id": "6c78a31d",
   "metadata": {},
   "outputs": [
    {
     "data": {
      "text/html": [
       "<div>\n",
       "<style scoped>\n",
       "    .dataframe tbody tr th:only-of-type {\n",
       "        vertical-align: middle;\n",
       "    }\n",
       "\n",
       "    .dataframe tbody tr th {\n",
       "        vertical-align: top;\n",
       "    }\n",
       "\n",
       "    .dataframe thead th {\n",
       "        text-align: right;\n",
       "    }\n",
       "</style>\n",
       "<table border=\"1\" class=\"dataframe\">\n",
       "  <thead>\n",
       "    <tr style=\"text-align: right;\">\n",
       "      <th></th>\n",
       "      <th>Opponent</th>\n",
       "      <th>Location</th>\n",
       "      <th>GoalsFor</th>\n",
       "      <th>GoalsAgainst</th>\n",
       "    </tr>\n",
       "  </thead>\n",
       "  <tbody>\n",
       "    <tr>\n",
       "      <th>0</th>\n",
       "      <td>Atletico Jave</td>\n",
       "      <td>Home</td>\n",
       "      <td>2</td>\n",
       "      <td>4</td>\n",
       "    </tr>\n",
       "    <tr>\n",
       "      <th>1</th>\n",
       "      <td>Newtown FC</td>\n",
       "      <td>Away</td>\n",
       "      <td>4</td>\n",
       "      <td>0</td>\n",
       "    </tr>\n",
       "    <tr>\n",
       "      <th>2</th>\n",
       "      <td>Bunton Town</td>\n",
       "      <td>Away</td>\n",
       "      <td>3</td>\n",
       "      <td>2</td>\n",
       "    </tr>\n",
       "    <tr>\n",
       "      <th>3</th>\n",
       "      <td>Fentborough Dynamo</td>\n",
       "      <td>Home</td>\n",
       "      <td>0</td>\n",
       "      <td>2</td>\n",
       "    </tr>\n",
       "  </tbody>\n",
       "</table>\n",
       "</div>"
      ],
      "text/plain": [
       "             Opponent Location  GoalsFor  GoalsAgainst\n",
       "0       Atletico Jave     Home         2             4\n",
       "1          Newtown FC     Away         4             0\n",
       "2         Bunton Town     Away         3             2\n",
       "3  Fentborough Dynamo     Home         0             2"
      ]
     },
     "execution_count": 2,
     "metadata": {},
     "output_type": "execute_result"
    }
   ],
   "source": [
    "data = {'Opponent':\n",
    "        [\"Atletico Jave\",\"Newtown FC\", \n",
    "         \"Bunton Town\", \"Fentborough Dynamo\"],\n",
    "       'Location':\n",
    "        [\"Home\",\"Away\",\"Away\",\"Home\"],\n",
    "        'GoalsFor':\n",
    "        [2,4,3,0],\n",
    "        'GoalsAgainst':\n",
    "        [4,0,2,2]}\n",
    "matches = pd.DataFrame(data)\n",
    "matches"
   ]
  },
  {
   "cell_type": "markdown",
   "id": "8df2add0",
   "metadata": {},
   "source": [
    "An obvious way to group this data is by home and away matches. use the ‘.groupby()’ method to do so.\n",
    "\n"
   ]
  },
  {
   "cell_type": "code",
   "execution_count": 4,
   "id": "c45394d1",
   "metadata": {},
   "outputs": [
    {
     "data": {
      "text/html": [
       "<div>\n",
       "<style scoped>\n",
       "    .dataframe tbody tr th:only-of-type {\n",
       "        vertical-align: middle;\n",
       "    }\n",
       "\n",
       "    .dataframe tbody tr th {\n",
       "        vertical-align: top;\n",
       "    }\n",
       "\n",
       "    .dataframe thead th {\n",
       "        text-align: right;\n",
       "    }\n",
       "</style>\n",
       "<table border=\"1\" class=\"dataframe\">\n",
       "  <thead>\n",
       "    <tr style=\"text-align: right;\">\n",
       "      <th></th>\n",
       "      <th>GoalsFor</th>\n",
       "      <th>GoalsAgainst</th>\n",
       "    </tr>\n",
       "    <tr>\n",
       "      <th>Location</th>\n",
       "      <th></th>\n",
       "      <th></th>\n",
       "    </tr>\n",
       "  </thead>\n",
       "  <tbody>\n",
       "    <tr>\n",
       "      <th>Away</th>\n",
       "      <td>3.5</td>\n",
       "      <td>1.0</td>\n",
       "    </tr>\n",
       "    <tr>\n",
       "      <th>Home</th>\n",
       "      <td>1.0</td>\n",
       "      <td>3.0</td>\n",
       "    </tr>\n",
       "  </tbody>\n",
       "</table>\n",
       "</div>"
      ],
      "text/plain": [
       "          GoalsFor  GoalsAgainst\n",
       "Location                        \n",
       "Away           3.5           1.0\n",
       "Home           1.0           3.0"
      ]
     },
     "execution_count": 4,
     "metadata": {},
     "output_type": "execute_result"
    }
   ],
   "source": [
    "HAMatches = matches.groupby('Location').mean()\n",
    "HAMatches"
   ]
  },
  {
   "cell_type": "code",
   "execution_count": 5,
   "id": "1e04f120",
   "metadata": {},
   "outputs": [
    {
     "data": {
      "text/html": [
       "<div>\n",
       "<style scoped>\n",
       "    .dataframe tbody tr th:only-of-type {\n",
       "        vertical-align: middle;\n",
       "    }\n",
       "\n",
       "    .dataframe tbody tr th {\n",
       "        vertical-align: top;\n",
       "    }\n",
       "\n",
       "    .dataframe thead tr th {\n",
       "        text-align: left;\n",
       "    }\n",
       "\n",
       "    .dataframe thead tr:last-of-type th {\n",
       "        text-align: right;\n",
       "    }\n",
       "</style>\n",
       "<table border=\"1\" class=\"dataframe\">\n",
       "  <thead>\n",
       "    <tr>\n",
       "      <th></th>\n",
       "      <th colspan=\"8\" halign=\"left\">GoalsFor</th>\n",
       "      <th colspan=\"8\" halign=\"left\">GoalsAgainst</th>\n",
       "    </tr>\n",
       "    <tr>\n",
       "      <th></th>\n",
       "      <th>count</th>\n",
       "      <th>mean</th>\n",
       "      <th>std</th>\n",
       "      <th>min</th>\n",
       "      <th>25%</th>\n",
       "      <th>50%</th>\n",
       "      <th>75%</th>\n",
       "      <th>max</th>\n",
       "      <th>count</th>\n",
       "      <th>mean</th>\n",
       "      <th>std</th>\n",
       "      <th>min</th>\n",
       "      <th>25%</th>\n",
       "      <th>50%</th>\n",
       "      <th>75%</th>\n",
       "      <th>max</th>\n",
       "    </tr>\n",
       "    <tr>\n",
       "      <th>Location</th>\n",
       "      <th></th>\n",
       "      <th></th>\n",
       "      <th></th>\n",
       "      <th></th>\n",
       "      <th></th>\n",
       "      <th></th>\n",
       "      <th></th>\n",
       "      <th></th>\n",
       "      <th></th>\n",
       "      <th></th>\n",
       "      <th></th>\n",
       "      <th></th>\n",
       "      <th></th>\n",
       "      <th></th>\n",
       "      <th></th>\n",
       "      <th></th>\n",
       "    </tr>\n",
       "  </thead>\n",
       "  <tbody>\n",
       "    <tr>\n",
       "      <th>Away</th>\n",
       "      <td>2.0</td>\n",
       "      <td>3.5</td>\n",
       "      <td>0.707107</td>\n",
       "      <td>3.0</td>\n",
       "      <td>3.25</td>\n",
       "      <td>3.5</td>\n",
       "      <td>3.75</td>\n",
       "      <td>4.0</td>\n",
       "      <td>2.0</td>\n",
       "      <td>1.0</td>\n",
       "      <td>1.414214</td>\n",
       "      <td>0.0</td>\n",
       "      <td>0.5</td>\n",
       "      <td>1.0</td>\n",
       "      <td>1.5</td>\n",
       "      <td>2.0</td>\n",
       "    </tr>\n",
       "    <tr>\n",
       "      <th>Home</th>\n",
       "      <td>2.0</td>\n",
       "      <td>1.0</td>\n",
       "      <td>1.414214</td>\n",
       "      <td>0.0</td>\n",
       "      <td>0.50</td>\n",
       "      <td>1.0</td>\n",
       "      <td>1.50</td>\n",
       "      <td>2.0</td>\n",
       "      <td>2.0</td>\n",
       "      <td>3.0</td>\n",
       "      <td>1.414214</td>\n",
       "      <td>2.0</td>\n",
       "      <td>2.5</td>\n",
       "      <td>3.0</td>\n",
       "      <td>3.5</td>\n",
       "      <td>4.0</td>\n",
       "    </tr>\n",
       "  </tbody>\n",
       "</table>\n",
       "</div>"
      ],
      "text/plain": [
       "         GoalsFor                                           GoalsAgainst       \\\n",
       "            count mean       std  min   25%  50%   75%  max        count mean   \n",
       "Location                                                                        \n",
       "Away          2.0  3.5  0.707107  3.0  3.25  3.5  3.75  4.0          2.0  1.0   \n",
       "Home          2.0  1.0  1.414214  0.0  0.50  1.0  1.50  2.0          2.0  3.0   \n",
       "\n",
       "                                             \n",
       "               std  min  25%  50%  75%  max  \n",
       "Location                                     \n",
       "Away      1.414214  0.0  0.5  1.0  1.5  2.0  \n",
       "Home      1.414214  2.0  2.5  3.0  3.5  4.0  "
      ]
     },
     "execution_count": 5,
     "metadata": {},
     "output_type": "execute_result"
    }
   ],
   "source": [
    "#Describes the dataset for each variable within - this is awesome!\n",
    "matches.groupby('Location').describe()"
   ]
  },
  {
   "cell_type": "code",
   "execution_count": 6,
   "id": "a42d3820",
   "metadata": {},
   "outputs": [
    {
     "data": {
      "text/plain": [
       "GoalsFor      count    2.000000\n",
       "              mean     3.500000\n",
       "              std      0.707107\n",
       "              min      3.000000\n",
       "              25%      3.250000\n",
       "              50%      3.500000\n",
       "              75%      3.750000\n",
       "              max      4.000000\n",
       "GoalsAgainst  count    2.000000\n",
       "              mean     1.000000\n",
       "              std      1.414214\n",
       "              min      0.000000\n",
       "              25%      0.500000\n",
       "              50%      1.000000\n",
       "              75%      1.500000\n",
       "              max      2.000000\n",
       "Name: Away, dtype: float64"
      ]
     },
     "execution_count": 6,
     "metadata": {},
     "output_type": "execute_result"
    }
   ],
   "source": [
    "matches.groupby('Location').describe().transpose()['Away']\n"
   ]
  },
  {
   "cell_type": "code",
   "execution_count": 7,
   "id": "910c73e5",
   "metadata": {},
   "outputs": [
    {
     "name": "stdout",
     "output_type": "stream",
     "text": [
      "All that work done in just 58 characters!\n"
     ]
    }
   ],
   "source": [
    "print(\"All that work done in just \" + \n",
    "      str(len(\"Matches.groupby('Location').describe().transpose()['Away']\"))\n",
    "     + \" characters!\")"
   ]
  },
  {
   "cell_type": "code",
   "execution_count": null,
   "id": "37f13b62",
   "metadata": {},
   "outputs": [],
   "source": []
  }
 ],
 "metadata": {
  "kernelspec": {
   "display_name": "Python 3",
   "language": "python",
   "name": "python3"
  },
  "language_info": {
   "codemirror_mode": {
    "name": "ipython",
    "version": 3
   },
   "file_extension": ".py",
   "mimetype": "text/x-python",
   "name": "python",
   "nbconvert_exporter": "python",
   "pygments_lexer": "ipython3",
   "version": "3.8.8"
  }
 },
 "nbformat": 4,
 "nbformat_minor": 5
}

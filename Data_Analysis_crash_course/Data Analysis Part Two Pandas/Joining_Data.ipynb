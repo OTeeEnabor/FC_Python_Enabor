{
 "cells": [
  {
   "cell_type": "markdown",
   "id": "b4c6047e",
   "metadata": {},
   "source": [
    "# Joining Data\n",
    "\n",
    "Incomplete data sets, whether they are missing individual values or full rows and columns, are a common problem in data analysis. Luckily for us, Pandas has lots of tools to help us make these data sets easier to handle.\n",
    "\n",
    "Pandas’ main methods for bundling dataFrames together – concatenating and merging."
   ]
  },
  {
   "cell_type": "code",
   "execution_count": 1,
   "id": "f927f9b1",
   "metadata": {},
   "outputs": [],
   "source": [
    "import numpy as np\n",
    "import pandas as pd"
   ]
  },
  {
   "cell_type": "code",
   "execution_count": 2,
   "id": "78b58602",
   "metadata": {},
   "outputs": [],
   "source": [
    "match1 = pd.DataFrame({'Opponent':['Selche FC'],\n",
    "                      'GoalsFor':[1],\n",
    "                       'GoalsAgainst':[1],\n",
    "                       'Attendance':[53225]})\n",
    "\n",
    "match2 = pd.DataFrame({'Opponent':['Sudaton FC'],\n",
    "                      'GoalsFor':[3],\n",
    "                       'GoalsAgainst':[0],\n",
    "                       'Attendance':[53256]})\n",
    "\n",
    "match3 = pd.DataFrame({'Opponent':['Ouestjambon United'],\n",
    "                      'GoalsFor':[4],\n",
    "                       'GoalsAgainst':[1],\n",
    "                       'Attendance':[53225]})"
   ]
  },
  {
   "cell_type": "markdown",
   "id": "44c9922b",
   "metadata": {},
   "source": [
    "## Concatenation\n",
    "Simplest method of joining data is to simply stick one on the ned of the other – as the concatenate method allows us to do. ‘pd.concat()’ with a list of our data frames will do the trick:"
   ]
  },
  {
   "cell_type": "code",
   "execution_count": 3,
   "id": "731aed18",
   "metadata": {},
   "outputs": [
    {
     "data": {
      "text/html": [
       "<div>\n",
       "<style scoped>\n",
       "    .dataframe tbody tr th:only-of-type {\n",
       "        vertical-align: middle;\n",
       "    }\n",
       "\n",
       "    .dataframe tbody tr th {\n",
       "        vertical-align: top;\n",
       "    }\n",
       "\n",
       "    .dataframe thead th {\n",
       "        text-align: right;\n",
       "    }\n",
       "</style>\n",
       "<table border=\"1\" class=\"dataframe\">\n",
       "  <thead>\n",
       "    <tr style=\"text-align: right;\">\n",
       "      <th></th>\n",
       "      <th>Opponent</th>\n",
       "      <th>GoalsFor</th>\n",
       "      <th>GoalsAgainst</th>\n",
       "      <th>Attendance</th>\n",
       "    </tr>\n",
       "  </thead>\n",
       "  <tbody>\n",
       "    <tr>\n",
       "      <th>0</th>\n",
       "      <td>Selche FC</td>\n",
       "      <td>1</td>\n",
       "      <td>1</td>\n",
       "      <td>53225</td>\n",
       "    </tr>\n",
       "    <tr>\n",
       "      <th>0</th>\n",
       "      <td>Sudaton FC</td>\n",
       "      <td>3</td>\n",
       "      <td>0</td>\n",
       "      <td>53256</td>\n",
       "    </tr>\n",
       "    <tr>\n",
       "      <th>0</th>\n",
       "      <td>Ouestjambon United</td>\n",
       "      <td>4</td>\n",
       "      <td>1</td>\n",
       "      <td>53225</td>\n",
       "    </tr>\n",
       "  </tbody>\n",
       "</table>\n",
       "</div>"
      ],
      "text/plain": [
       "             Opponent  GoalsFor  GoalsAgainst  Attendance\n",
       "0           Selche FC         1             1       53225\n",
       "0          Sudaton FC         3             0       53256\n",
       "0  Ouestjambon United         4             1       53225"
      ]
     },
     "execution_count": 3,
     "metadata": {},
     "output_type": "execute_result"
    }
   ],
   "source": [
    "AllMatches = pd.concat([match1,match2,match3])\n",
    "AllMatches"
   ]
  },
  {
   "cell_type": "markdown",
   "id": "eab4e969",
   "metadata": {},
   "source": [
    "## Merging\n",
    "\n",
    "‘pd.merge()’ will allow us to stick data together left-to-right. Let’s first create more details for our matches above that we can then merge then:"
   ]
  },
  {
   "cell_type": "code",
   "execution_count": 4,
   "id": "98baf292",
   "metadata": {},
   "outputs": [
    {
     "data": {
      "text/html": [
       "<div>\n",
       "<style scoped>\n",
       "    .dataframe tbody tr th:only-of-type {\n",
       "        vertical-align: middle;\n",
       "    }\n",
       "\n",
       "    .dataframe tbody tr th {\n",
       "        vertical-align: top;\n",
       "    }\n",
       "\n",
       "    .dataframe thead th {\n",
       "        text-align: right;\n",
       "    }\n",
       "</style>\n",
       "<table border=\"1\" class=\"dataframe\">\n",
       "  <thead>\n",
       "    <tr style=\"text-align: right;\">\n",
       "      <th></th>\n",
       "      <th>First</th>\n",
       "      <th>Last</th>\n",
       "      <th>Opponent</th>\n",
       "    </tr>\n",
       "  </thead>\n",
       "  <tbody>\n",
       "    <tr>\n",
       "      <th>0</th>\n",
       "      <td>Sally</td>\n",
       "      <td>Billy</td>\n",
       "      <td>Selche FC</td>\n",
       "    </tr>\n",
       "    <tr>\n",
       "      <th>0</th>\n",
       "      <td>Sally</td>\n",
       "      <td>Pip</td>\n",
       "      <td>Sudaton FC</td>\n",
       "    </tr>\n",
       "    <tr>\n",
       "      <th>0</th>\n",
       "      <td>Sally</td>\n",
       "      <td>Sally</td>\n",
       "      <td>Ouestjambon United</td>\n",
       "    </tr>\n",
       "  </tbody>\n",
       "</table>\n",
       "</div>"
      ],
      "text/plain": [
       "   First   Last            Opponent\n",
       "0  Sally  Billy           Selche FC\n",
       "0  Sally    Pip          Sudaton FC\n",
       "0  Sally  Sally  Ouestjambon United"
      ]
     },
     "execution_count": 4,
     "metadata": {},
     "output_type": "execute_result"
    }
   ],
   "source": [
    "match1scorers = pd.DataFrame({'First':['Sally'],\n",
    "                              'Last':['Billy'],\n",
    "                            'Opponent':['Selche FC']})\n",
    "                      \n",
    "match2scorers = pd.DataFrame({'First':['Sally'],\n",
    "                              'Last':['Pip'],\n",
    "                             'Opponent':['Sudaton FC']})\n",
    "\n",
    "match3scorers = pd.DataFrame({'First':['Sally'],\n",
    "                             'Last':['Sally'],\n",
    "                             'Opponent':['Ouestjambon United']})\n",
    "\n",
    "AllScorers = pd.concat([match1scorers,match2scorers,match3scorers]) \n",
    "AllScorers"
   ]
  },
  {
   "cell_type": "code",
   "execution_count": 5,
   "id": "3ca275c2",
   "metadata": {},
   "outputs": [
    {
     "data": {
      "text/html": [
       "<div>\n",
       "<style scoped>\n",
       "    .dataframe tbody tr th:only-of-type {\n",
       "        vertical-align: middle;\n",
       "    }\n",
       "\n",
       "    .dataframe tbody tr th {\n",
       "        vertical-align: top;\n",
       "    }\n",
       "\n",
       "    .dataframe thead th {\n",
       "        text-align: right;\n",
       "    }\n",
       "</style>\n",
       "<table border=\"1\" class=\"dataframe\">\n",
       "  <thead>\n",
       "    <tr style=\"text-align: right;\">\n",
       "      <th></th>\n",
       "      <th>Opponent</th>\n",
       "      <th>GoalsFor</th>\n",
       "      <th>GoalsAgainst</th>\n",
       "      <th>Attendance</th>\n",
       "      <th>First</th>\n",
       "      <th>Last</th>\n",
       "    </tr>\n",
       "  </thead>\n",
       "  <tbody>\n",
       "    <tr>\n",
       "      <th>0</th>\n",
       "      <td>Selche FC</td>\n",
       "      <td>1</td>\n",
       "      <td>1</td>\n",
       "      <td>53225</td>\n",
       "      <td>Sally</td>\n",
       "      <td>Billy</td>\n",
       "    </tr>\n",
       "    <tr>\n",
       "      <th>1</th>\n",
       "      <td>Sudaton FC</td>\n",
       "      <td>3</td>\n",
       "      <td>0</td>\n",
       "      <td>53256</td>\n",
       "      <td>Sally</td>\n",
       "      <td>Pip</td>\n",
       "    </tr>\n",
       "    <tr>\n",
       "      <th>2</th>\n",
       "      <td>Ouestjambon United</td>\n",
       "      <td>4</td>\n",
       "      <td>1</td>\n",
       "      <td>53225</td>\n",
       "      <td>Sally</td>\n",
       "      <td>Sally</td>\n",
       "    </tr>\n",
       "  </tbody>\n",
       "</table>\n",
       "</div>"
      ],
      "text/plain": [
       "             Opponent  GoalsFor  GoalsAgainst  Attendance  First   Last\n",
       "0           Selche FC         1             1       53225  Sally  Billy\n",
       "1          Sudaton FC         3             0       53256  Sally    Pip\n",
       "2  Ouestjambon United         4             1       53225  Sally  Sally"
      ]
     },
     "execution_count": 5,
     "metadata": {},
     "output_type": "execute_result"
    }
   ],
   "source": [
    "df = pd.merge(AllMatches, AllScorers, how='inner',on='Opponent')\n",
    "df\n"
   ]
  },
  {
   "cell_type": "markdown",
   "id": "3840a14e",
   "metadata": {},
   "source": [
    "‘pd.merge()’ takes four arguments. The first two are the dataFrames that we want to merge.\n",
    "\n",
    "Next, we have the ‘how’ argument, which dictates the type of join that we need. ‘Inner’ is the simplest, and we use that in this example but you should read up on the other types.\n",
    "\n",
    "Finally is ‘on’, which is the column that we build the dataFrame around. Pandas looks for this value in all merged dataFrames, then adds the other values from the matching rows."
   ]
  },
  {
   "cell_type": "code",
   "execution_count": null,
   "id": "e68d5e23",
   "metadata": {},
   "outputs": [],
   "source": []
  }
 ],
 "metadata": {
  "kernelspec": {
   "display_name": "Python 3",
   "language": "python",
   "name": "python3"
  },
  "language_info": {
   "codemirror_mode": {
    "name": "ipython",
    "version": 3
   },
   "file_extension": ".py",
   "mimetype": "text/x-python",
   "name": "python",
   "nbconvert_exporter": "python",
   "pygments_lexer": "ipython3",
   "version": "3.8.8"
  }
 },
 "nbformat": 4,
 "nbformat_minor": 5
}

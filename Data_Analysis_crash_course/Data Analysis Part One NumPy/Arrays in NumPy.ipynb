{
 "cells": [
  {
   "cell_type": "markdown",
   "id": "d0548ec9",
   "metadata": {},
   "source": [
    "NumPy is a fundamental package for data analysis in Python as the majority of other packages in the Python data eco-system build on it. Subsequently, it makes sense for us to have an understanding of what NumPy can help us with and its general principles.\n",
    "\n",
    "In the following article, we’ll take a look at arrays in Python – which essentially take the ‘lists’ data type to a new level. We’ll have powerful new methods, random number generation and a way of storing data in grid-like structures, not just lists like we have seen."
   ]
  },
  {
   "cell_type": "code",
   "execution_count": 1,
   "id": "c554e831",
   "metadata": {},
   "outputs": [],
   "source": [
    "import numpy as np\n"
   ]
  },
  {
   "cell_type": "markdown",
   "id": "f97a7d39",
   "metadata": {},
   "source": [
    "## Creating a NumPy array\n"
   ]
  },
  {
   "cell_type": "code",
   "execution_count": 2,
   "id": "454ff1a4",
   "metadata": {},
   "outputs": [],
   "source": [
    "# Three lists, one for GK heights, one for GK weigghts, one for names\n",
    "\n",
    "GKNames = [\"Kaller\",\"Fradeel\",\"Hayward\",\"Honeyman\"]\n",
    "GKHeights = [184,188,191,193]\n",
    "GKWeights = [81,85,103,99]"
   ]
  },
  {
   "cell_type": "code",
   "execution_count": 3,
   "id": "b2c501ec",
   "metadata": {},
   "outputs": [
    {
     "name": "stdout",
     "output_type": "stream",
     "text": [
      "['Kaller' 'Fradeel' 'Hayward' 'Honeyman']\n"
     ]
    }
   ],
   "source": [
    "#create an array of names\n",
    "nameArray = np.array(GKNames)\n",
    "print(nameArray)"
   ]
  },
  {
   "cell_type": "code",
   "execution_count": 5,
   "id": "209f2e13",
   "metadata": {},
   "outputs": [
    {
     "name": "stdout",
     "output_type": "stream",
     "text": [
      "[['Kaller' 'Fradeel' 'Hayward' 'Honeyman']\n",
      " ['184' '188' '191' '193']\n",
      " ['81' '85' '103' '99']]\n"
     ]
    }
   ],
   "source": [
    "#Create a matrix of all three lists, start with a list of lists\n",
    "GKMatrix = [GKNames,GKHeights,GKWeights]\n",
    "arrayGKMatrix = np.array(GKMatrix)\n",
    "print(arrayGKMatrix)"
   ]
  },
  {
   "cell_type": "markdown",
   "id": "36150632",
   "metadata": {},
   "source": [
    "Aside from creating arrays from lists we already have, numpy can create them with its own methods:\n",
    "\n"
   ]
  },
  {
   "cell_type": "code",
   "execution_count": 7,
   "id": "e3fc8aa2",
   "metadata": {},
   "outputs": [
    {
     "name": "stdout",
     "output_type": "stream",
     "text": [
      "[ 0  1  2  3  4  5  6  7  8  9 10 11 12 13 14 15 16 17 18 19]\n"
     ]
    }
   ],
   "source": [
    "#With 'arange', we can create arrays just like we created lists with 'range'\n",
    "print(np.arange(0,20))"
   ]
  },
  {
   "cell_type": "code",
   "execution_count": 9,
   "id": "8f1e51f4",
   "metadata": {},
   "outputs": [
    {
     "data": {
      "text/plain": [
       "array([[0., 0., 0., 0., 0., 0., 0., 0., 0., 0., 0., 0., 0., 0., 0., 0.,\n",
       "        0., 0., 0., 0.],\n",
       "       [0., 0., 0., 0., 0., 0., 0., 0., 0., 0., 0., 0., 0., 0., 0., 0.,\n",
       "        0., 0., 0., 0.],\n",
       "       [0., 0., 0., 0., 0., 0., 0., 0., 0., 0., 0., 0., 0., 0., 0., 0.,\n",
       "        0., 0., 0., 0.]])"
      ]
     },
     "execution_count": 9,
     "metadata": {},
     "output_type": "execute_result"
    }
   ],
   "source": [
    "# Create blank array with zeros\n",
    "\n",
    "np.zeros((3,20)) # 3 rows , 20 columns"
   ]
  },
  {
   "cell_type": "code",
   "execution_count": 10,
   "id": "dbaa0a28",
   "metadata": {},
   "outputs": [
    {
     "name": "stdout",
     "output_type": "stream",
     "text": [
      "[[ 0.10232264 -0.24356104  0.54797226]\n",
      " [ 0.28167159  1.17209239 -0.80649178]\n",
      " [-1.48268758 -0.99971271 -0.91989008]]\n"
     ]
    }
   ],
   "source": [
    "#Creates random numbers around a standard distribution from 0\n",
    "print(np.random.randn(3,3))"
   ]
  },
  {
   "cell_type": "code",
   "execution_count": 11,
   "id": "208b7e4f",
   "metadata": {},
   "outputs": [
    {
     "name": "stdout",
     "output_type": "stream",
     "text": [
      "[[47 14 44]\n",
      " [37 91 43]\n",
      " [58  2 29]]\n"
     ]
    }
   ],
   "source": [
    "#Creates random numbers between two numbers that we give it\n",
    "#The third argument gives us the shape of the array\n",
    "print(np.random.randint(1,100,(3,3)))  # create a 3x3 array with values between 1 and 100"
   ]
  },
  {
   "cell_type": "markdown",
   "id": "5f297bbc",
   "metadata": {},
   "source": [
    "## Array Methods\n",
    "\n",
    "Not only does NumPy give us a good way to store our data, it also gives us some great tools to simplify working with it.\n",
    "\n",
    "Let’s find the tallest goalkeeper from our earlier examples with array methods."
   ]
  },
  {
   "cell_type": "code",
   "execution_count": 14,
   "id": "abdab6c8",
   "metadata": {},
   "outputs": [],
   "source": [
    "arrayGKNames = nameArray\n",
    "arrayGKHeights = np.array(GKHeights)\n",
    "arrayGKWeights = np.array(GKWeights)"
   ]
  },
  {
   "cell_type": "code",
   "execution_count": 17,
   "id": "1235c8dc",
   "metadata": {},
   "outputs": [
    {
     "data": {
      "text/plain": [
       "'Honeyman'"
      ]
     },
     "execution_count": 17,
     "metadata": {},
     "output_type": "execute_result"
    }
   ],
   "source": [
    "#What is the largest height, max()?\n",
    "arrayGKHeights.max()\n",
    "#name of this player\n",
    "arrayGKNames[arrayGKHeights.argmax()]\n"
   ]
  },
  {
   "cell_type": "code",
   "execution_count": null,
   "id": "31a36c37",
   "metadata": {},
   "outputs": [],
   "source": []
  }
 ],
 "metadata": {
  "kernelspec": {
   "display_name": "Python 3",
   "language": "python",
   "name": "python3"
  },
  "language_info": {
   "codemirror_mode": {
    "name": "ipython",
    "version": 3
   },
   "file_extension": ".py",
   "mimetype": "text/x-python",
   "name": "python",
   "nbconvert_exporter": "python",
   "pygments_lexer": "ipython3",
   "version": "3.8.8"
  }
 },
 "nbformat": 4,
 "nbformat_minor": 5
}

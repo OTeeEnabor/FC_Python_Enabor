{
 "cells": [
  {
   "cell_type": "markdown",
   "id": "d96fd285",
   "metadata": {},
   "source": [
    "# Indexing NumPy Arrays\n",
    "In the Arrays intro, you probably noticed an example where we used square brackets after an array to select a specific part of the array. In this article, we will see how we can identify and select parts of our arrays, whether 1d or 2d.\n",
    "\n",
    "Let’s get started by importing our NumPy module and setting up an array of World Cup years. We’ll do this by calling ‘arange’ for every 4 years, then using ‘np.delete’ – a numpy function to remove parts of an array – to remove 1942 & 1946 (these are in locations 3 & 4)."
   ]
  },
  {
   "cell_type": "code",
   "execution_count": 2,
   "id": "f4074ee5",
   "metadata": {},
   "outputs": [],
   "source": [
    "import numpy as np\n"
   ]
  },
  {
   "cell_type": "code",
   "execution_count": 4,
   "id": "ff1f3a3a",
   "metadata": {},
   "outputs": [],
   "source": [
    "# Every 4 years since 1930\n",
    "WCYears = np.arange(1930,2021,4)\n",
    "# No WC in years 1942 or 1946 (bloody germans!! :D)\n"
   ]
  },
  {
   "cell_type": "code",
   "execution_count": null,
   "id": "e99a1925",
   "metadata": {},
   "outputs": [],
   "source": []
  }
 ],
 "metadata": {
  "kernelspec": {
   "display_name": "Python 3",
   "language": "python",
   "name": "python3"
  },
  "language_info": {
   "codemirror_mode": {
    "name": "ipython",
    "version": 3
   },
   "file_extension": ".py",
   "mimetype": "text/x-python",
   "name": "python",
   "nbconvert_exporter": "python",
   "pygments_lexer": "ipython3",
   "version": "3.8.8"
  }
 },
 "nbformat": 4,
 "nbformat_minor": 5
}

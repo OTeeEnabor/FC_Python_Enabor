{
 "cells": [
  {
   "cell_type": "markdown",
   "id": "4b90ce07",
   "metadata": {},
   "source": [
    "# Indexing NumPy Arrays\n",
    "In the Arrays intro, you probably noticed an example where we used square brackets after an array to select a specific part of the array. In this article, we will see how we can identify and select parts of our arrays, whether 1d or 2d.\n",
    "\n",
    "Let’s get started by importing our NumPy module and setting up an array of World Cup years. We’ll do this by calling ‘arange’ for every 4 years, then using ‘np.delete’ – a numpy function to remove parts of an array – to remove 1942 & 1946 (these are in locations 3 & 4)."
   ]
  },
  {
   "cell_type": "code",
   "execution_count": 2,
   "id": "f4074ee5",
   "metadata": {},
   "outputs": [],
   "source": [
    "import numpy as np\n"
   ]
  },
  {
   "cell_type": "code",
   "execution_count": 7,
   "id": "162304e9",
   "metadata": {},
   "outputs": [
    {
     "data": {
      "text/plain": [
       "array([1930, 1934, 1938, 1950, 1954, 1958, 1962, 1966, 1970, 1974, 1978,\n",
       "       1982, 1986, 1990, 1994, 1998, 2002, 2006, 2010, 2014, 2018])"
      ]
     },
     "execution_count": 7,
     "metadata": {},
     "output_type": "execute_result"
    }
   ],
   "source": [
    "# Every 4 years since 1930\n",
    "WCYears = np.arange(1930,2021,4)\n",
    "# No WC in years 1942 or 1946 (bloody germans!! :D)\n",
    "WCYears = np.delete(WCYears,(3,4)) #1930+(3*4)=1942 ; 1930+(4*4)=1946\n",
    "WCYears"
   ]
  },
  {
   "cell_type": "markdown",
   "id": "5e5f6708",
   "metadata": {},
   "source": [
    "## Bracket Selection\n",
    "\n",
    "Following an array with square brackets is the easiest way to select an individual value or range.\n",
    "\n",
    "Two important things to remember that will be second nature to you soon:\n",
    "\n",
    "- Any range includes the first number, but not the final one.\n",
    "- Indexes begin at 0 in Python."
   ]
  },
  {
   "cell_type": "code",
   "execution_count": 9,
   "id": "224d5ad1",
   "metadata": {},
   "outputs": [
    {
     "data": {
      "text/plain": [
       "array([1950, 1954, 1958, 1962])"
      ]
     },
     "execution_count": 9,
     "metadata": {},
     "output_type": "execute_result"
    }
   ],
   "source": [
    "#What year was the third World Cup held?\n",
    "WCYears[2]\n",
    "#Show me the 4 World Cup years following WW2\n",
    "WCYears[3:7]"
   ]
  },
  {
   "cell_type": "markdown",
   "id": "e44585ca",
   "metadata": {},
   "source": [
    "## Selections in a 2d array (grid)\n",
    "\n",
    "\n",
    "Bracket selection is also used to make selections on a grid. We have two options to do so:\n",
    "\n",
    "grid[row][column] OR grid[row,column]\n",
    "\n",
    "Both are essentially the same, so use whatever works for you and be aware that you may see it differently elsewhere!"
   ]
  },
  {
   "cell_type": "code",
   "execution_count": 10,
   "id": "a5f50c3f",
   "metadata": {},
   "outputs": [
    {
     "data": {
      "text/plain": [
       "array([['2002', '2006', '2010', '2014'],\n",
       "       ['Japan/Korea', 'Germany', 'South Africa', 'Brazil'],\n",
       "       ['Brazil', 'Italy', 'Spain', 'Germany']], dtype='<U12')"
      ]
     },
     "execution_count": 10,
     "metadata": {},
     "output_type": "execute_result"
    }
   ],
   "source": [
    "#Create our 2d array\n",
    "WCYears = [2002,2006,2010,2014]\n",
    "WCHosts = [\"Japan/Korea\",\"Germany\",\"South Africa\",\"Brazil\"]\n",
    "WCWinners = [\"Brazil\",\"Italy\",\"Spain\",\"Germany\"]\n",
    "\n",
    "WCArray = np.array((WCYears,WCHosts,WCWinners))\n",
    "WCArray"
   ]
  },
  {
   "cell_type": "code",
   "execution_count": 11,
   "id": "cf8f0bda",
   "metadata": {},
   "outputs": [
    {
     "data": {
      "text/plain": [
       "'Germany'"
      ]
     },
     "execution_count": 11,
     "metadata": {},
     "output_type": "execute_result"
    }
   ],
   "source": [
    "#Find the winner of the last World Cup\n",
    "#Negative selection!\n",
    "WCArray[2,-1]"
   ]
  },
  {
   "cell_type": "markdown",
   "id": "f78457d1",
   "metadata": {},
   "source": [
    "## Selecting parts of an array with criteria\n",
    "So far, we have only selected values when we know their location. Quite often, we won’t know where things are, or will want to find something completely new.\n",
    "\n",
    "NumPy allows us to select based on criteria that we give it. We will give it a test and if numbers return as ‘True’, then it will give them to us."
   ]
  },
  {
   "cell_type": "code",
   "execution_count": 12,
   "id": "6c9645af",
   "metadata": {},
   "outputs": [],
   "source": [
    "WCYears = np.array([1966,1970,1974,1978])\n",
    "WCTopScorers = np.array([\"Eusebio\",\"Muller\",\"Lato\",\"Kempes\"])\n",
    "WCGoals = np.array([9,10,7,6])"
   ]
  },
  {
   "cell_type": "code",
   "execution_count": 13,
   "id": "1f7d192e",
   "metadata": {},
   "outputs": [
    {
     "data": {
      "text/plain": [
       "array(['Eusebio', 'Muller'], dtype='<U7')"
      ]
     },
     "execution_count": 13,
     "metadata": {},
     "output_type": "execute_result"
    }
   ],
   "source": [
    "#Where does the top scorer score more than 8 goals?\n",
    "WCGoals > 8\n",
    "WCTopScorers[WCGoals>8]"
   ]
  },
  {
   "cell_type": "code",
   "execution_count": null,
   "id": "1bd08d1f",
   "metadata": {},
   "outputs": [],
   "source": []
  }
 ],
 "metadata": {
  "kernelspec": {
   "display_name": "Python 3",
   "language": "python",
   "name": "python3"
  },
  "language_info": {
   "codemirror_mode": {
    "name": "ipython",
    "version": 3
   },
   "file_extension": ".py",
   "mimetype": "text/x-python",
   "name": "python",
   "nbconvert_exporter": "python",
   "pygments_lexer": "ipython3",
   "version": "3.8.8"
  }
 },
 "nbformat": 4,
 "nbformat_minor": 5
}
